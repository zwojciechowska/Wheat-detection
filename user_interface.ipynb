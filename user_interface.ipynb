{
 "cells": [
  {
   "cell_type": "code",
   "execution_count": 1,
   "metadata": {},
   "outputs": [],
   "source": [
    "import os"
   ]
  },
  {
   "cell_type": "code",
   "execution_count": 2,
   "metadata": {},
   "outputs": [],
   "source": [
    "running_in_COLAB = 'google.colab' in str(get_ipython()) if hasattr(\n",
    "    __builtins__, '__IPYTHON__') else False\n",
    "base_path = '.'\n",
    "if running_in_COLAB:\n",
    "    from google.colab import drive\n",
    "    drive.mount('/content/drive', force_remount=True)\n",
    "    base_path = '/content/drive/MyDrive/global-wheat-detection'"
   ]
  },
  {
   "cell_type": "code",
   "execution_count": 3,
   "metadata": {},
   "outputs": [
    {
     "name": "stdout",
     "output_type": "stream",
     "text": [
      "Note: you may need to restart the kernel to use updated packages.\n"
     ]
    }
   ],
   "source": [
    "if not os.path.exists('yolov5'):\n",
    "    !git clone https://github.com/ultralytics/yolov5\n",
    "\n",
    "%pip install -q -r yolov5/requirements.txt"
   ]
  },
  {
   "cell_type": "code",
   "execution_count": 4,
   "metadata": {},
   "outputs": [],
   "source": [
    "def detect_wheat(model, input_path, output_path, confidence=0.4):\n",
    "  %run yolov5/detect.py \\\n",
    "  --weights {base_path}/models/yolov5{model}/weights/best.pt \\\n",
    "  --img 1024 \\\n",
    "  --conf {confidence} \\\n",
    "  --source {input_path} \\\n",
    "  --project {output_path} \\\n",
    "  --save-txt \\\n",
    "  --save-conf "
   ]
  },
  {
   "cell_type": "code",
   "execution_count": 5,
   "metadata": {},
   "outputs": [],
   "source": [
    "def images_in_path(path):\n",
    "    allowed_suffixes = ('jpg', 'jpeg', 'png')\n",
    "    for file in os.listdir(path):\n",
    "        filepath = os.path.join(path, file)\n",
    "        if os.path.isfile(filepath) and file.endswith(allowed_suffixes):\n",
    "            return True\n",
    "    return False"
   ]
  },
  {
   "cell_type": "code",
   "execution_count": 6,
   "metadata": {},
   "outputs": [
    {
     "name": "stdout",
     "output_type": "stream",
     "text": [
      "Podana ścieżka nie istnieje\n",
      "Podana ścieżka: C:\\Users\\zwojc\\Documents\\final_project\\output_test_2021\\exp4\n"
     ]
    },
    {
     "name": "stderr",
     "output_type": "stream",
     "text": [
      "\u001b[34m\u001b[1mdetect: \u001b[0mweights=['./models/yolov5s/weights/best.pt'], source=C:\\Users\\zwojc\\Documents\\final_project\\output_test_2021\\exp4, data=yolov5\\data\\coco128.yaml, imgsz=[1024, 1024], conf_thres=0.1, iou_thres=0.45, max_det=1000, device=, view_img=False, save_txt=True, save_csv=False, save_conf=True, save_crop=False, nosave=False, classes=None, agnostic_nms=False, augment=False, visualize=False, update=False, project=C:\\Users\\zwojc\\Documents\\final_project\\output_test_2021, name=exp, exist_ok=False, line_thickness=3, hide_labels=False, hide_conf=False, half=False, dnn=False, vid_stride=1\n",
      "YOLOv5  v7.0-230-g53efd07f Python-3.10.13 torch-2.1.0 CUDA:0 (NVIDIA GeForce RTX 3060 Laptop GPU, 6144MiB)\n",
      "\n",
      "Fusing layers... \n",
      "YOLOv5s summary: 157 layers, 7012822 parameters, 0 gradients, 15.8 GFLOPs\n",
      "image 1/6 C:\\Users\\zwojc\\Documents\\final_project\\output_test_2021\\exp4\\19c39776e39af146069be40e90fc2192d11e349184c437fea8a036d2fd823bc0.png: 1024x1024 92 wheats, 16.0ms\n",
      "image 2/6 C:\\Users\\zwojc\\Documents\\final_project\\output_test_2021\\exp4\\23bb887eab2be5f727634dd15761dc1425b7d39c7d9d9b219e0eac53a5fa1b9d.png: 1024x1024 55 wheats, 13.8ms\n",
      "image 3/6 C:\\Users\\zwojc\\Documents\\final_project\\output_test_2021\\exp4\\30a42fe3f0d46cfed42efddae3f56908001d9207a62a454671f7d35739064b0a.png: 1024x1024 2 wheats, 10.7ms\n",
      "image 4/6 C:\\Users\\zwojc\\Documents\\final_project\\output_test_2021\\exp4\\37f5e06ed1e78d65d66b812deb3da33ef514f195eae1f770ca3cb04e64dca638.png: 1024x1024 53 wheats, 18.9ms\n",
      "image 5/6 C:\\Users\\zwojc\\Documents\\final_project\\output_test_2021\\exp4\\fda0ea271ef480841a325849540ae06b56fb225a0aec39f234e22ec7667cd8e1.png: 1024x1024 65 wheats, 9.7ms\n",
      "image 6/6 C:\\Users\\zwojc\\Documents\\final_project\\output_test_2021\\exp4\\fe6883ad631cd1e1f0e191e8adbf9684c17c872398adaa8f03535e2528366643.png: 1024x1024 54 wheats, 7.7ms\n",
      "Speed: 0.8ms pre-process, 12.8ms inference, 56.1ms NMS per image at shape (1, 3, 1024, 1024)\n",
      "Results saved to \u001b[1mC:\\Users\\zwojc\\Documents\\final_project\\output_test_2021\\exp5\u001b[0m\n",
      "6 labels saved to C:\\Users\\zwojc\\Documents\\final_project\\output_test_2021\\exp5\\labels\n"
     ]
    }
   ],
   "source": [
    "model = input(\n",
    "    'Podaj model YOLOv5, który ma zostać użyty do detekcji [domyślnie: YOLOv5x]: \\ns \\nm \\n[x]')\n",
    "if not model.lower() in ['s', 'm', 'x']:\n",
    "    model = 'x'\n",
    "\n",
    "input_path = input('Podaj ścieżkę do folderu z obrazami testowymi:\\n')\n",
    "\n",
    "continue_execution = True\n",
    "\n",
    "while not os.path.exists(input_path) or not images_in_path(input_path):\n",
    "    if input_path == 'q':\n",
    "        continue_execution = False\n",
    "        break\n",
    "    print('Podana ścieżka nie istnieje')\n",
    "    input_path = input('Podana ścieżka nie istnieje lub nie ma w niej obrazów.'\n",
    "                       '\\n \\nPodaj poprawną ścieżkę do folderu z obrazami testowymi:\\n'\n",
    "                       '[q - wyjście]\\n')\n",
    "\n",
    "if not continue_execution:\n",
    "    raise SystemExit('Program został zatrzymany.')\n",
    "if continue_execution:\n",
    "    print('Podana ścieżka:', input_path)\n",
    "\n",
    "try:\n",
    "    confidence = float(\n",
    "        input('Podaj minimalną pewność detekcji [0-1] [domyślnie: 0.4]:\\n'))\n",
    "    if confidence < 0 or confidence > 1:\n",
    "        raise ValueError\n",
    "except ValueError:\n",
    "    print('Użyto wartości domyślnej 0.4.')\n",
    "\n",
    "output_path = input(\n",
    "    'Podaj ścieżkę do istniejącego folderu, w którym mają zostać zapisane wyniki:\\n')\n",
    "if not os.path.exists(output_path):\n",
    "    print('Niepoprawna ścieżka')\n",
    "\n",
    "while not os.path.exists(output_path):\n",
    "    if output_path == 'q':\n",
    "        continue_execution = False\n",
    "        break\n",
    "    print('Podana ścieżka nie istnieje')\n",
    "    output_path = input('Podana ścieżka nie istnieje.'\n",
    "                        '\\n \\nPodaj poprawną ścieżkę do istniejącego folderu, '\n",
    "                        'w którym mają zostać zapisane wyniki:\\n'\n",
    "                        '[q - wyjście]\\n')\n",
    "if not continue_execution:\n",
    "    raise SystemExit('Program został zatrzymany.')\n",
    "detect_wheat(model, input_path, output_path, confidence)"
   ]
  }
 ],
 "metadata": {
  "kernelspec": {
   "display_name": "wheat_detection",
   "language": "python",
   "name": "python3"
  },
  "language_info": {
   "codemirror_mode": {
    "name": "ipython",
    "version": 3
   },
   "file_extension": ".py",
   "mimetype": "text/x-python",
   "name": "python",
   "nbconvert_exporter": "python",
   "pygments_lexer": "ipython3",
   "version": "3.10.13"
  }
 },
 "nbformat": 4,
 "nbformat_minor": 2
}
